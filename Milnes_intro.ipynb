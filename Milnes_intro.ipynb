{
 "cells": [
  {
   "cell_type": "markdown",
   "id": "29d3b828-b4f5-486b-921f-5bb3a2e36c45",
   "metadata": {
    "tags": []
   },
   "source": [
    "# First Notebook"
   ]
  },
  {
   "cell_type": "markdown",
   "id": "b7c33429-212c-496c-8840-73de9712e0ab",
   "metadata": {},
   "source": [
    "## Theophilos Milnes"
   ]
  },
  {
   "cell_type": "code",
   "execution_count": 1,
   "id": "29d2abde-2363-49f5-97e7-db45c3a56fc9",
   "metadata": {},
   "outputs": [],
   "source": [
    "import random\n",
    "\n",
    "num = random.sample(range(3, 100), 40)"
   ]
  },
  {
   "cell_type": "code",
   "execution_count": 2,
   "id": "7409d855-84db-4e33-b084-4458d1a77a71",
   "metadata": {},
   "outputs": [
    {
     "name": "stdout",
     "output_type": "stream",
     "text": [
      "4 6 10 11 19 22 23 24 26 27 28 29 30 31 34 41 43 46 47 49 51 53 54 55 58 63 65 72 73 74 75 81 82 84 85 86 89 94 95 98 "
     ]
    }
   ],
   "source": [
    "num.sort()\n",
    "for x in range(len(num)):\n",
    "    print(num[x], end = \" \")"
   ]
  },
  {
   "cell_type": "markdown",
   "id": "b221c6e1-cc25-4134-b618-68005385965e",
   "metadata": {},
   "source": [
    "## The Sample Mean\n",
    "To calculate the sample mean of a list of numbers, the sum of each numbers must be divded by how many numbers there are in the list."
   ]
  },
  {
   "cell_type": "markdown",
   "id": "4698369e-e84d-4aae-9565-351327c65515",
   "metadata": {},
   "source": [
    "$$\\overline{\\chi}=\\frac{\\sum x_i}{n}$$"
   ]
  },
  {
   "cell_type": "code",
   "execution_count": 3,
   "id": "033425ae-43f3-47ef-99a7-3a42f3404deb",
   "metadata": {},
   "outputs": [
    {
     "name": "stdout",
     "output_type": "stream",
     "text": [
      "50.92\n"
     ]
    }
   ],
   "source": [
    "import statistics\n",
    "\n",
    "print(f\"{statistics.mean(num):.2f}\")"
   ]
  },
  {
   "cell_type": "markdown",
   "id": "0268a776-d7d4-4509-bf4e-0015d4531672",
   "metadata": {},
   "source": [
    "## The Median\n",
    "\n",
    "[Median: What It Is and How to Calculate It, With Examples](https://sqlbak.com)"
   ]
  },
  {
   "cell_type": "code",
   "execution_count": 4,
   "id": "b04ae1d7-76b2-4298-8f50-81f268ed2e52",
   "metadata": {},
   "outputs": [
    {
     "name": "stdout",
     "output_type": "stream",
     "text": [
      "50.0\n"
     ]
    }
   ],
   "source": [
    "# To calculate the median of an even number of values, you simply need to add the two middle values together, and then divide that sum by 2.\n",
    "\n",
    "print(f\"{statistics.median(num):.1f}\")"
   ]
  }
 ],
 "metadata": {
  "kernelspec": {
   "display_name": "Python 3 (ipykernel)",
   "language": "python",
   "name": "python3"
  },
  "language_info": {
   "codemirror_mode": {
    "name": "ipython",
    "version": 3
   },
   "file_extension": ".py",
   "mimetype": "text/x-python",
   "name": "python",
   "nbconvert_exporter": "python",
   "pygments_lexer": "ipython3",
   "version": "3.10.9"
  }
 },
 "nbformat": 4,
 "nbformat_minor": 5
}
